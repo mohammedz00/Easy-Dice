{
 "cells": [
  {
   "cell_type": "code",
   "execution_count": 1,
   "metadata": {},
   "outputs": [],
   "source": [
    "import random"
   ]
  },
  {
   "cell_type": "code",
   "execution_count": 2,
   "metadata": {},
   "outputs": [
    {
     "name": "stdout",
     "output_type": "stream",
     "text": [
      "Would you like to roll the dice? Y\n",
      "You have rolled a  3\n",
      "Would you like to roll again? N\n",
      "Thank you for rolling the dice 1 times today\n"
     ]
    }
   ],
   "source": [
    "def dice():\n",
    "    \n",
    "    count = 0\n",
    "    question = None\n",
    "    again = None\n",
    "    while question != 'N':\n",
    "        question = input('Would you like to roll the dice? ')\n",
    "        if question == 'Y':\n",
    "            print('You have rolled a ', random.randint(1,6))\n",
    "            count += 1\n",
    "            \n",
    "            while again != 'N':\n",
    "                again = input('Would you like to roll again? ')\n",
    "                if again == 'Y':\n",
    "                    print(random.randint(1,6))\n",
    "                    count += 1\n",
    "                \n",
    "                if again == 'N':\n",
    "                    print(f'Thank you for rolling the dice {count} times today')\n",
    "                    break\n",
    "            break\n",
    "        \n",
    "        if question == 'N':\n",
    "            print('Have a nice day!')\n",
    "    \n",
    "        \n",
    "\n",
    "dice()"
   ]
  },
  {
   "cell_type": "code",
   "execution_count": null,
   "metadata": {},
   "outputs": [],
   "source": []
  }
 ],
 "metadata": {
  "kernelspec": {
   "display_name": "Python 3",
   "language": "python",
   "name": "python3"
  },
  "language_info": {
   "codemirror_mode": {
    "name": "ipython",
    "version": 3
   },
   "file_extension": ".py",
   "mimetype": "text/x-python",
   "name": "python",
   "nbconvert_exporter": "python",
   "pygments_lexer": "ipython3",
   "version": "3.8.3"
  }
 },
 "nbformat": 4,
 "nbformat_minor": 4
}
